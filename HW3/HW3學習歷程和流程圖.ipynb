{
 "cells": [
  {
   "cell_type": "markdown",
   "metadata": {},
   "source": [
    "# BOPM學習歷程和流程圖"
   ]
  },
  {
   "cell_type": "code",
   "execution_count": 1,
   "metadata": {},
   "outputs": [
    {
     "data": {
      "text/plain": [
       "'This is a calculator for pricing calls on a non-dividend-paying stock by appling BOPM.'"
      ]
     },
     "execution_count": 1,
     "metadata": {},
     "output_type": "execute_result"
    }
   ],
   "source": [
    "\"This is a calculator for pricing calls on a non-dividend-paying stock by appling BOPM.\""
   ]
  },
  {
   "cell_type": "code",
   "execution_count": 2,
   "metadata": {},
   "outputs": [],
   "source": [
    "import numpy as np"
   ]
  },
  {
   "cell_type": "markdown",
   "metadata": {},
   "source": [
    "請使用者輸入歐式買權的資料以及進行資料處理"
   ]
  },
  {
   "cell_type": "code",
   "execution_count": null,
   "metadata": {},
   "outputs": [],
   "source": [
    "user_input=input(\"Please enter the information of the call (S, u, d, X, n, r): \")\n",
    "user_input=user_input.strip('()')\n",
    "call_information=user_input.split(',')\n",
    "S=float(call_information[0])\n",
    "u=float(call_information[1])\n",
    "d=float(call_information[2])\n",
    "X=float(call_information[3])\n",
    "n=int(call_information[4])\n",
    "r=float(call_information[5])"
   ]
  },
  {
   "cell_type": "markdown",
   "metadata": {},
   "source": [
    "由於在之後用random walk去逼近BM時，需要的期數會增加，因此要儘可能減少演算的重複和不必要的儲存空間浪費，因此先找出Binomial tree末端節點恰好可以行使選擇權的state，在這個節點之下的未來價值為零，然後若未來的各個state都沒機會行使選擇權，則選擇權價值為零"
   ]
  },
  {
   "cell_type": "code",
   "execution_count": null,
   "metadata": {},
   "outputs": [],
   "source": [
    "min_strike=np.log(X/(S*d**n))/np.log(u/d)\n",
    "k=0\n",
    "while k<min_strike:\n",
    "    k=k+1\n",
    "min_strike=k\n",
    "if min_strike>n:\n",
    "    print(\"the price of call=0\")"
   ]
  },
  {
   "cell_type": "markdown",
   "metadata": {},
   "source": [
    "以下為backward induction的過程，由於random walk，符合二項分配，前兩個for loop是為了處理恰好能時始選擇權節點的現值，再下一個for loop是處理在這節點以上的各個節點現值以及進行加總求出這個歐式買權的價格\n"
   ]
  },
  {
   "cell_type": "code",
   "execution_count": null,
   "metadata": {},
   "outputs": [],
   "source": [
    "p=(np.exp(r/100)-d)/(u-d)\n",
    "R=np.exp(r/100*n)\n",
    "b=p**min_strike*(1-p)**(n-min_strike)\n",
    "for k in range(min_strike+1,n+1):\n",
    "    b=b*k\n",
    "for k in range(1,n-min_strike+1):\n",
    "    b=b/k\n",
    "lower_limit=S*u**min_strike*d**(n-min_strike)\n",
    "C=b*(lower_limit-X)/R\n",
    "for k in range(min_strike+1, n+1):\n",
    "    b=b*p*(n-k+1)/(1-p)/k\n",
    "    lower_limit=lower_limit*u/d\n",
    "    C=C+b*(lower_limit-X)/R\n",
    "print(\"the price of call=\"+str(round(C,3)))"
   ]
  }
 ],
 "metadata": {
  "kernelspec": {
   "display_name": "Python 3",
   "language": "python",
   "name": "python3"
  },
  "language_info": {
   "codemirror_mode": {
    "name": "ipython",
    "version": 3
   },
   "file_extension": ".py",
   "mimetype": "text/x-python",
   "name": "python",
   "nbconvert_exporter": "python",
   "pygments_lexer": "ipython3",
   "version": "3.7.2"
  }
 },
 "nbformat": 4,
 "nbformat_minor": 4
}
