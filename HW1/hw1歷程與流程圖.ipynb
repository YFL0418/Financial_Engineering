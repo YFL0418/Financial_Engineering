{
 "cells": [
  {
   "cell_type": "markdown",
   "metadata": {},
   "source": [
    "# 本金平均攤還試算"
   ]
  },
  {
   "cell_type": "markdown",
   "metadata": {},
   "source": [
    "本金平均攤還意即在各期要償還固定金額的本金，也就是拿本金總額除以總期數，就是各期應償還的本金額。\n",
    "隨著各期本金的償還，剩餘未償還本金的數額會逐期下降，該期所應支付的利息也會跟著減少"
   ]
  },
  {
   "cell_type": "markdown",
   "metadata": {},
   "source": [
    "作業一中所提供的試算超連結"
   ]
  },
  {
   "cell_type": "markdown",
   "metadata": {},
   "source": [
    "[本金平均攤還試算](https://ttc.scu.org.tw/memdca1.htm)"
   ]
  },
  {
   "cell_type": "markdown",
   "metadata": {},
   "source": [
    "以200萬元，兩年，利息1%下去試算的結果如下方圖片，等等寫完code就用這組數據測試"
   ]
  },
  {
   "cell_type": "markdown",
   "metadata": {},
   "source": [
    "![image](https://github.com/YFL0418/Financial_Engineering/blob/master/HW1/%E5%9F%B7%E8%A1%8C%E7%B5%90%E6%9E%9C.png)"
   ]
  },
  {
   "cell_type": "markdown",
   "metadata": {},
   "source": [
    "# 先說明程式的功能"
   ]
  },
  {
   "cell_type": "code",
   "execution_count": 1,
   "metadata": {},
   "outputs": [
    {
     "name": "stdout",
     "output_type": "stream",
     "text": [
      "本金平均攤還試算\n"
     ]
    }
   ],
   "source": [
    "print('本金平均攤還試算')"
   ]
  },
  {
   "cell_type": "code",
   "execution_count": 2,
   "metadata": {},
   "outputs": [
    {
     "name": "stdout",
     "output_type": "stream",
     "text": [
      "請您按照順序分別輸入數據，即可得出每期攤還所需費用\n"
     ]
    }
   ],
   "source": [
    "print('請您按照順序分別輸入數據，即可得出每期攤還所需費用')"
   ]
  },
  {
   "cell_type": "markdown",
   "metadata": {},
   "source": [
    "# 需要使用者輸入資料"
   ]
  },
  {
   "cell_type": "markdown",
   "metadata": {},
   "source": [
    "請使用者輸入本金大小，以萬元計，由於含有小數點，input資料type選擇float"
   ]
  },
  {
   "cell_type": "code",
   "execution_count": 3,
   "metadata": {},
   "outputs": [
    {
     "name": "stdout",
     "output_type": "stream",
     "text": [
      "本金(萬): 200\n"
     ]
    }
   ],
   "source": [
    "principal_w=float(input('本金(萬): '))"
   ]
  },
  {
   "cell_type": "markdown",
   "metadata": {},
   "source": [
    "先將萬元計的本金轉成完整數值"
   ]
  },
  {
   "cell_type": "code",
   "execution_count": 4,
   "metadata": {},
   "outputs": [],
   "source": [
    "principal=principal_w*10000"
   ]
  },
  {
   "cell_type": "markdown",
   "metadata": {},
   "source": [
    "接下來是期數，請使用者輸入年數，input資料type選擇int"
   ]
  },
  {
   "cell_type": "code",
   "execution_count": 5,
   "metadata": {},
   "outputs": [
    {
     "name": "stdout",
     "output_type": "stream",
     "text": [
      "期數(年): 2\n"
     ]
    }
   ],
   "source": [
    "period=int(input('期數(年): '))"
   ]
  },
  {
   "cell_type": "markdown",
   "metadata": {},
   "source": [
    "接下來請使用者輸入利率"
   ]
  },
  {
   "cell_type": "code",
   "execution_count": 6,
   "metadata": {},
   "outputs": [
    {
     "name": "stdout",
     "output_type": "stream",
     "text": [
      "年利率(%): 1\n"
     ]
    }
   ],
   "source": [
    "interest_rate_percent=float(input('年利率(%): '))"
   ]
  },
  {
   "cell_type": "markdown",
   "metadata": {},
   "source": [
    "由於一年共12期故先轉換成每個月的利率"
   ]
  },
  {
   "cell_type": "code",
   "execution_count": 7,
   "metadata": {},
   "outputs": [],
   "source": [
    "interest_rate=interest_rate_percent/1200"
   ]
  },
  {
   "cell_type": "markdown",
   "metadata": {},
   "source": [
    "由於各期初剩餘本金都不相同，需要扣減，此外各期利率由各期剩餘本金乘以月利率而得，因此需要一個for loop來計算，另外想將試算表輸出成csv增加可讀性，因此得先建立文件，然後在loop中的每個cycle寫入各期應付本金、利息的資訊，一開始剩餘本金為初始本金，一開始並無應付利息因此先設為零，然後各期應付本金可以先計算"
   ]
  },
  {
   "cell_type": "code",
   "execution_count": 8,
   "metadata": {},
   "outputs": [],
   "source": [
    "remain_principal=principal"
   ]
  },
  {
   "cell_type": "code",
   "execution_count": 9,
   "metadata": {},
   "outputs": [],
   "source": [
    "should_interest=0"
   ]
  },
  {
   "cell_type": "code",
   "execution_count": 10,
   "metadata": {},
   "outputs": [],
   "source": [
    "should_principal=round((principal/12)/period, 3)"
   ]
  },
  {
   "cell_type": "code",
   "execution_count": 11,
   "metadata": {},
   "outputs": [],
   "source": [
    "sum_interest_prinicpal=0"
   ]
  },
  {
   "cell_type": "markdown",
   "metadata": {},
   "source": [
    "先設定csv文件名稱"
   ]
  },
  {
   "cell_type": "code",
   "execution_count": 12,
   "metadata": {},
   "outputs": [],
   "source": [
    "name='本金'+str(principal_w)+'萬元'+str(period)+'年期'+'年利率'+str(interest_rate_percent)+'%'"
   ]
  },
  {
   "cell_type": "markdown",
   "metadata": {},
   "source": [
    "然後建立文件，寫入各行title"
   ]
  },
  {
   "cell_type": "code",
   "execution_count": 13,
   "metadata": {},
   "outputs": [],
   "source": [
    "import csv\n",
    "with open(name+'.csv','w',newline='') as csvfile:\n",
    "    writer=csv.writer(csvfile)\n",
    "    writer.writerow([' ','本 金(元)','利 息(元)','本金利息累計(元)'])\n",
    "    for n in range(1, period*12+1):\n",
    "        should_interest=round(remain_principal*interest_rate,3)\n",
    "        sum_interest_prinicpal=sum_interest_prinicpal+should_principal+should_interest\n",
    "        writer.writerow(['第'+str(n)+'期',should_principal,should_interest,sum_interest_prinicpal])\n",
    "        remain_principal=remain_principal-should_principal"
   ]
  },
  {
   "cell_type": "markdown",
   "metadata": {},
   "source": [
    "開始跑for loop"
   ]
  },
  {
   "cell_type": "markdown",
   "metadata": {},
   "source": [
    "輸出的試算表"
   ]
  },
  {
   "cell_type": "markdown",
   "metadata": {},
   "source": [
    "![執行結果](https://github.com/YFL0418/Financial_Engineering/blob/master/HW1/%E6%9C%AC%E9%87%91%E6%94%A4%E9%82%84%E8%A9%A6%E7%AE%97.png)\n"
   ]
  }
 ],
 "metadata": {
  "kernelspec": {
   "display_name": "Python 3",
   "language": "python",
   "name": "python3"
  },
  "language_info": {
   "codemirror_mode": {
    "name": "ipython",
    "version": 3
   },
   "file_extension": ".py",
   "mimetype": "text/x-python",
   "name": "python",
   "nbconvert_exporter": "python",
   "pygments_lexer": "ipython3",
   "version": "3.7.2"
  }
 },
 "nbformat": 4,
 "nbformat_minor": 4
}
